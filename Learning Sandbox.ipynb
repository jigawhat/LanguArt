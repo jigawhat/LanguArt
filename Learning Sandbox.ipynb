{
 "cells": [
  {
   "cell_type": "code",
   "execution_count": 33,
   "metadata": {
    "collapsed": true
   },
   "outputs": [],
   "source": [
    "import inspect\n",
    "import numpy as np\n",
    "import pandas as pd\n",
    "from sklearn.tree import *\n",
    "from sklearn.multioutput import MultiOutputRegressor\n",
    "from sklearn.ensemble import GradientBoostingRegressor\n",
    "from sklearn.model_selection import cross_val_predict\n",
    "from sklearn.metrics import mean_squared_error\n",
    "\n",
    "from Constants import *\n",
    "from Utils import *\n",
    "from Dataset import *"
   ]
  },
  {
   "cell_type": "code",
   "execution_count": 34,
   "metadata": {},
   "outputs": [
    {
     "data": {
      "text/plain": [
       "(sklearn.tree.tree.DecisionTreeClassifier,\n",
       " sklearn.tree.tree.BaseDecisionTree,\n",
       " abc.NewBase,\n",
       " sklearn.base.BaseEstimator,\n",
       " sklearn.base.ClassifierMixin,\n",
       " object)"
      ]
     },
     "execution_count": 34,
     "metadata": {},
     "output_type": "execute_result"
    }
   ],
   "source": [
    "inspect.getmro(DecisionTreeClassifier)"
   ]
  },
  {
   "cell_type": "code",
   "execution_count": 35,
   "metadata": {},
   "outputs": [],
   "source": [
    "dataset = Dataset(combined_csv)\n",
    "df = dataset.load()"
   ]
  },
  {
   "cell_type": "code",
   "execution_count": 38,
   "metadata": {
    "collapsed": true
   },
   "outputs": [],
   "source": [
    "def get_data(dataframe, x_lab, y_lab):\n",
    "    return np.array(dataframe[x_lab]), np.array(dataframe[y_lab])\n",
    "\n",
    "def learn(model, X, Y):\n",
    "    Y_pr = cross_val_predict(model, X, Y, cv=10)\n",
    "    mses = mean_squared_error(Y, Y_pr)\n",
    "    return Y_pr, mses"
   ]
  },
  {
   "cell_type": "code",
   "execution_count": 39,
   "metadata": {},
   "outputs": [],
   "source": [
    "# Define Y values to learn\n",
    "Y_labels = labels_default\n",
    "\n",
    "# Define X values to learn from\n",
    "X_labels = [\"g42B_300d\" + '_' + str(i) for i in range(300)]\n",
    "\n",
    "# Define models to evaluate\n",
    "models = [\n",
    "    MultiOutputRegressor(GradientBoostingRegressor()),\n",
    "]\n",
    "\n",
    "# Train Multi-task models on interval_size-sample increments of data, up to the whole dataset\n",
    "ns_samples = [ 50 ]\n",
    "# interval_size = 50\n",
    "# ns_samples = np.arange(0, df.shape[0], interval_size)\n",
    "\n",
    "# Take ns_eval_samples samples of random x for each increment, to get accurate results at low n\n",
    "ns_eval_samples = [5] * len(ns_samples)\n",
    "\n",
    "# Load data\n",
    "X, Y = get_data(df, X_labels, Y_labels)\n",
    "\n",
    "results = []\n",
    "for i in range(len(ns_samples)):\n",
    "    results += [[]]\n",
    "    for j in range(ns_eval_samples[i]):\n",
    "        results[-1] += [[]]\n",
    "        for k in range(len(models)):\n",
    "            indices = np.random.choice(X.shape[0], ns_samples[i])\n",
    "            results[-1][-1] += [ learn(models[k], X[indices], Y[indices]) ]"
   ]
  },
  {
   "cell_type": "code",
   "execution_count": 23,
   "metadata": {},
   "outputs": [
    {
     "data": {
      "text/plain": [
       "52"
      ]
     },
     "execution_count": 23,
     "metadata": {},
     "output_type": "execute_result"
    }
   ],
   "source": [
    "X.shape[0]"
   ]
  },
  {
   "cell_type": "code",
   "execution_count": null,
   "metadata": {
    "collapsed": true
   },
   "outputs": [],
   "source": []
  }
 ],
 "metadata": {
  "kernelspec": {
   "display_name": "Python 3",
   "language": "python",
   "name": "python3"
  }
 },
 "nbformat": 4,
 "nbformat_minor": 2
}
