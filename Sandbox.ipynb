{
 "cells": [
  {
   "cell_type": "code",
   "execution_count": 59,
   "metadata": {
    "collapsed": true
   },
   "outputs": [],
   "source": [
    "import csv\n",
    "import time\n",
    "import numpy as np\n",
    "import pandas as pd\n",
    "from Constants import *"
   ]
  },
  {
   "cell_type": "code",
   "execution_count": 3,
   "metadata": {
    "collapsed": true
   },
   "outputs": [],
   "source": [
    "lib_path = data_dir + word_rep_dir + \"glove.42B.300d.txt\"\n",
    "lib = None"
   ]
  },
  {
   "cell_type": "code",
   "execution_count": 5,
   "metadata": {
    "collapsed": true
   },
   "outputs": [],
   "source": [
    "del lib\n",
    "lib = pd.read_table(lib_path, header=None, sep=' ', encoding=\"utf8\", index_col=0, quoting=csv.QUOTE_NONE)"
   ]
  },
  {
   "cell_type": "code",
   "execution_count": 73,
   "metadata": {},
   "outputs": [
    {
     "data": {
      "text/plain": [
       "(1917494, 300)"
      ]
     },
     "execution_count": 73,
     "metadata": {},
     "output_type": "execute_result"
    }
   ],
   "source": [
    "lib.shape"
   ]
  },
  {
   "cell_type": "code",
   "execution_count": 11,
   "metadata": {},
   "outputs": [
    {
     "name": "stdout",
     "output_type": "stream",
     "text": [
      "13777\n"
     ]
    }
   ],
   "source": [
    "word = \"intricate\"\n",
    "print(list(lib.index).index(word))\n",
    "# list(lib.loc[word])"
   ]
  },
  {
   "cell_type": "code",
   "execution_count": 12,
   "metadata": {},
   "outputs": [
    {
     "data": {
      "text/plain": [
       "True"
      ]
     },
     "execution_count": 12,
     "metadata": {},
     "output_type": "execute_result"
    }
   ],
   "source": [
    "word in lib.index"
   ]
  },
  {
   "cell_type": "code",
   "execution_count": 16,
   "metadata": {},
   "outputs": [
    {
     "data": {
      "text/plain": [
       "'intricate'"
      ]
     },
     "execution_count": 16,
     "metadata": {},
     "output_type": "execute_result"
    }
   ],
   "source": [
    "lib.index[13777]"
   ]
  },
  {
   "cell_type": "code",
   "execution_count": 21,
   "metadata": {},
   "outputs": [
    {
     "data": {
      "text/plain": [
       "13777"
      ]
     },
     "execution_count": 21,
     "metadata": {},
     "output_type": "execute_result"
    }
   ],
   "source": [
    "lib.index.get_loc(word)"
   ]
  },
  {
   "cell_type": "code",
   "execution_count": 46,
   "metadata": {},
   "outputs": [
    {
     "data": {
      "text/plain": [
       "True"
      ]
     },
     "execution_count": 46,
     "metadata": {},
     "output_type": "execute_result"
    }
   ],
   "source": [
    "all(lib.iloc[13777] == lib.loc[word])"
   ]
  },
  {
   "cell_type": "code",
   "execution_count": 72,
   "metadata": {},
   "outputs": [
    {
     "name": "stdout",
     "output_type": "stream",
     "text": [
      "Using iloc: 0.0634121894836\n",
      "Using loc: 30.3172707558\n"
     ]
    }
   ],
   "source": [
    "# Test how long it takes (in milliseconds) to look up\n",
    "# n_samples using the key index and the integer count index\n",
    "n_samples = 300\n",
    "times = []\n",
    "indices = [np.random.randint(0, lib.shape[0]) for i in range(n_samples)]\n",
    "for i in range(n_samples):\n",
    "    j = indices[i]\n",
    "    t1 = time.time()\n",
    "    a = lib.iloc[j]\n",
    "    t2 = time.time()\n",
    "    times += [ t2 - t1 ]\n",
    "print(\"Using iloc: \" + str(np.mean(times) * 1000))\n",
    "times = []\n",
    "keys = [lib.index[np.random.randint(0, lib.shape[0])] for i in range(n_samples)]\n",
    "for i in range(n_samples):\n",
    "    j = keys[i]\n",
    "    t1 = time.time()\n",
    "    a = lib.loc[j]\n",
    "    t2 = time.time()\n",
    "    times += [ t2 - t1 ]\n",
    "print(\"Using loc: \" + str(np.mean(times) * 1000))"
   ]
  },
  {
   "cell_type": "code",
   "execution_count": null,
   "metadata": {
    "collapsed": true
   },
   "outputs": [],
   "source": []
  }
 ],
 "metadata": {
  "kernelspec": {
   "display_name": "Python 3",
   "language": "python",
   "name": "python3"
  },
  "language_info": {
   "codemirror_mode": {
    "name": "ipython",
    "version": 3
   },
   "file_extension": ".py",
   "mimetype": "text/x-python",
   "name": "python",
   "nbconvert_exporter": "python",
   "pygments_lexer": "ipython3",
   "version": "3.6.1"
  }
 },
 "nbformat": 4,
 "nbformat_minor": 2
}
