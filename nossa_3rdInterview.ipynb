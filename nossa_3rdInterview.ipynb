{
 "cells": [
  {
   "cell_type": "code",
   "execution_count": 1,
   "metadata": {},
   "outputs": [
    {
     "name": "stderr",
     "output_type": "stream",
     "text": [
      "I0215 11:34:53.889933  5776 modeling_bert.py:226] Better speed can be achieved with apex installed from https://www.github.com/nvidia/apex .\n",
      "I0215 11:34:53.898910  5776 modeling_xlnet.py:339] Better speed can be achieved with apex installed from https://www.github.com/nvidia/apex .\n",
      "[nltk_data] Downloading package wordnet to\n",
      "[nltk_data]     C:\\Users\\alfew\\AppData\\Roaming\\nltk_data...\n",
      "[nltk_data]   Package wordnet is already up-to-date!\n"
     ]
    },
    {
     "name": "stdout",
     "output_type": "stream",
     "text": [
      "\n",
      "Complete.\n"
     ]
    }
   ],
   "source": [
    "import csv\n",
    "import time\n",
    "import string\n",
    "import numpy as np\n",
    "import pandas as pd\n",
    "import torch as pt\n",
    "import torch.nn as nn\n",
    "import torch.nn.functional as F\n",
    "import matplotlib.pyplot as plt\n",
    "from IPython.display import clear_output\n",
    "from transformers import GPT2ForSequenceClassification, GPT2LMHeadModel, ReformerModelWithLMHead, \\\n",
    "                         get_linear_schedule_with_warmup\n",
    "from pytorch_transformers import GPT2Tokenizer\n",
    "from Learning import *"
   ]
  },
  {
   "cell_type": "code",
   "execution_count": null,
   "metadata": {},
   "outputs": [],
   "source": []
  },
  {
   "cell_type": "code",
   "execution_count": null,
   "metadata": {},
   "outputs": [],
   "source": [
    "def get_hashtags(tweet):\n",
    "    tags = []\n",
    "    for word in tweet.split():\n",
    "        if word[0] == \"#\":\n",
    "            tags.append(word[1:])\n",
    "    return list(set(tags))"
   ]
  },
  {
   "cell_type": "code",
   "execution_count": null,
   "metadata": {},
   "outputs": [],
   "source": [
    "def generate_graph(paths):\n",
    "    hashtags_dict = {}\n",
    "    links = set()\n",
    "    for path in paths:\n",
    "        with open(path, 'r') as f:\n",
    "            tweet = f.read().strip()\n",
    "        tags = sorted(get_hashtags(tweet))\n",
    "        for tag in tags:\n",
    "            if tag in hashtags_dict: hashtags_dict[tag] += 1\n",
    "            else hashtags_dict[tag] = 1\n",
    "        for i in range(len(tags) - 1):\n",
    "            tag = tags[i]\n",
    "            new_tags = tags[i + 1:]\n",
    "            links |= set([(tag, new_tag) for new_tag in new_tags])\n",
    "    for tag in hashtags_dict:\n",
    "        draw_node(hashtags_dict[tag], tag)\n",
    "    for (v1, v2) in links:\n",
    "        link_nodes(v1, v2)"
   ]
  },
  {
   "cell_type": "code",
   "execution_count": null,
   "metadata": {},
   "outputs": [],
   "source": [
    "def generate_graph(paths):\n",
    "    hashtags_dict = {}\n",
    "    links = set()\n",
    "    for path in paths:\n",
    "        with open(paths, 'r') as f:\n",
    "            tweet = f.read()\n",
    "        tags = sorted(get_hashtags(tweet.strip()))\n",
    "        for tag in tags:\n",
    "            if tag in hashtags_dict: hashtags_dict[tag] += 1\n",
    "            else hashtags_dict[tag] = 1\n",
    "        links |= set(itertools.combinations(tags), 2)\n",
    "#         for i in range(len(tags) - 1):\n",
    "#             tag = tags[i]\n",
    "#             new_tags = tags[i + 1:]\n",
    "#             links |= set((tag, new_tag) for new_tag in new_tags)\n",
    "    for tag in hashtags_dict:\n",
    "        draw_node(hashtags_dict[tag], tag)\n",
    "    for (v1, v2) in links:\n",
    "        link_nodes(v1, v2)"
   ]
  },
  {
   "cell_type": "code",
   "execution_count": 24,
   "metadata": {},
   "outputs": [
    {
     "data": {
      "text/plain": [
       "{('A', 'Bee'), ('A', 'Seasnail'), ('Bee', 'Seasnail')}"
      ]
     },
     "execution_count": 24,
     "metadata": {},
     "output_type": "execute_result"
    }
   ],
   "source": [
    "import itertools\n",
    "set(itertools.combinations([\"A\", \"Bee\", \"Seasnail\"], 2))"
   ]
  },
  {
   "cell_type": "code",
   "execution_count": 17,
   "metadata": {},
   "outputs": [
    {
     "data": {
      "text/plain": [
       "([1, 2, 3, 4], [2, 3, 7])"
      ]
     },
     "execution_count": 17,
     "metadata": {},
     "output_type": "execute_result"
    }
   ],
   "source": [
    "a= [1,2,3,4]\n",
    "b = a[1:]\n",
    "b[2] = 7\n",
    "a, b"
   ]
  },
  {
   "cell_type": "code",
   "execution_count": null,
   "metadata": {},
   "outputs": [],
   "source": []
  }
 ],
 "metadata": {
  "kernelspec": {
   "display_name": "Python 3",
   "language": "python",
   "name": "python3"
  },
  "language_info": {
   "codemirror_mode": {
    "name": "ipython",
    "version": 3
   },
   "file_extension": ".py",
   "mimetype": "text/x-python",
   "name": "python",
   "nbconvert_exporter": "python",
   "pygments_lexer": "ipython3",
   "version": "3.6.6"
  }
 },
 "nbformat": 4,
 "nbformat_minor": 2
}
