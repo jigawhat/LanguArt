{
 "cells": [
  {
   "cell_type": "code",
   "execution_count": 17,
   "metadata": {
    "collapsed": false
   },
   "outputs": [
    {
     "name": "stdout",
     "output_type": "stream",
     "text": [
      "[nltk_data] Downloading package wordnet to /Users/fonz/nltk_data...\n",
      "[nltk_data]   Package wordnet is already up-to-date!\n"
     ]
    },
    {
     "data": {
      "text/plain": [
       "True"
      ]
     },
     "execution_count": 17,
     "metadata": {},
     "output_type": "execute_result"
    }
   ],
   "source": [
    "import pandas as pd\n",
    "from Constants import *\n",
    "import enchant\n",
    "import nltk\n",
    "from nltk.corpus import wordnet\n",
    "nltk.download('wordnet')"
   ]
  },
  {
   "cell_type": "code",
   "execution_count": 18,
   "metadata": {
    "collapsed": true
   },
   "outputs": [],
   "source": [
    "df = pd.read_csv(data_csv, index_col=0)"
   ]
  },
  {
   "cell_type": "code",
   "execution_count": 19,
   "metadata": {
    "collapsed": false
   },
   "outputs": [
    {
     "name": "stdout",
     "output_type": "stream",
     "text": [
      "Wordnet\t Enc_US\t Enc_UK\t Word \n",
      " -----------------------------------\n",
      "True \t True \t True \t hype\n",
      "True \t True \t True \t preliterate\n",
      "True \t True \t True \t lucre\n",
      "True \t True \t True \t lorry\n",
      "True \t True \t True \t averted\n",
      "False \t False \t False \t flyout\n",
      "True \t False \t False \t wolffish\n",
      "True \t False \t False \t bangladeshi\n",
      "True \t True \t True \t paves\n",
      "True \t True \t True \t hydrotherapy\n",
      "True \t False \t False \t freesia\n",
      "True \t True \t True \t bounces\n",
      "True \t True \t True \t nutritionally\n",
      "False \t False \t False \t untransmittable\n",
      "True \t True \t True \t codling\n",
      "True \t True \t True \t irresolution\n",
      "True \t False \t False \t qataris\n",
      "True \t True \t True \t quintessential\n",
      "True \t True \t True \t accreditation\n",
      "True \t True \t True \t arts\n",
      "False \t False \t False \t hardman\n",
      "True \t True \t True \t schist\n",
      "True \t True \t True \t collaborate\n",
      "False \t False \t False \t verite\n",
      "False \t False \t False \t kozmo\n",
      "True \t False \t False \t stonecrop\n",
      "True \t True \t True \t cyclist\n",
      "True \t True \t True \t attendance\n",
      "True \t True \t True \t cogitate\n",
      "True \t True \t True \t pastry\n",
      "True \t False \t True \t briar\n",
      "True \t True \t False \t transnational\n",
      "True \t True \t True \t cosmopolitan\n",
      "True \t True \t True \t foreshadowing\n",
      "True \t True \t True \t executed\n",
      "True \t True \t True \t variegation\n",
      "True \t True \t True \t hectoring\n",
      "True \t True \t True \t replacement\n",
      "True \t True \t True \t corking\n",
      "True \t True \t True \t articular\n",
      "True \t True \t False \t reestablish\n",
      "True \t True \t True \t initiated\n",
      "True \t False \t True \t well-meaning\n",
      "True \t True \t True \t happenings\n",
      "True \t True \t True \t libertarians\n",
      "True \t True \t True \t fairs\n",
      "True \t True \t True \t addressees\n",
      "True \t True \t True \t lotions\n",
      "True \t True \t True \t disgorging\n",
      "True \t True \t True \t vacuum\n",
      "True \t True \t False \t impalas\n",
      "True \t True \t True \t perceptiveness\n",
      "True \t True \t False \t hellfire\n",
      "True \t True \t True \t spoon\n"
     ]
    }
   ],
   "source": [
    "d_US, d_UK = enchant.Dict(\"en_US\"), enchant.Dict(\"en_UK\")\n",
    "print(\"Wordnet\\t Enc_US\\t Enc_UK\\t Word \\n -----------------------------------\")\n",
    "for word in list(df.index):\n",
    "    print(not not wordnet.synsets(word), '\\t', d_US.check(word), '\\t', d_UK.check(word), '\\t', word)"
   ]
  },
  {
   "cell_type": "code",
   "execution_count": 20,
   "metadata": {
    "collapsed": false
   },
   "outputs": [
    {
     "name": "stdout",
     "output_type": "stream",
     "text": [
      "('hype', [Synset('ballyhoo.n.01'), Synset('hype.v.01')])\n",
      "('preliterate', [Synset('preliterate.s.01'), Synset('preliterate.s.02')])\n",
      "('lucre', [Synset('boodle.n.01'), Synset('net_income.n.01')])\n",
      "('lorry', [Synset('lorry.n.01'), Synset('lorry.n.02')])\n",
      "('averted', [Synset('debar.v.02'), Synset('avert.v.02')])\n",
      "('flyout', [])\n",
      "('wolffish', [Synset('wolffish.n.01'), Synset('lancetfish.n.01')])\n",
      "('bangladeshi', [Synset('bangladeshi.n.01'), Synset('bangladeshi.a.01')])\n",
      "('paves', [Synset('pave.n.01'), Synset('pave.v.01')])\n",
      "('hydrotherapy', [Synset('hydropathy.n.01')])\n",
      "('freesia', [Synset('freesia.n.01')])\n",
      "('bounces', [Synset('bounce.n.01'), Synset('leap.n.01'), Synset('bounce.n.03'), Synset('bounce.v.01'), Synset('bounce.v.02'), Synset('bounce.v.03'), Synset('bounce.v.04'), Synset('bounce.v.05'), Synset('bounce.v.06'), Synset('bounce.v.07')])\n",
      "('nutritionally', [Synset('nutritionally.r.01')])\n",
      "('untransmittable', [])\n",
      "('codling', [Synset('codling.n.01')])\n",
      "('irresolution', [Synset('indecision.n.01'), Synset('irresoluteness.n.01')])\n",
      "('qataris', [Synset('qatari.n.01')])\n",
      "('quintessential', [Synset('quintessential.a.01')])\n",
      "('accreditation', [Synset('accreditation.n.01')])\n",
      "('arts', [Synset('humanistic_discipline.n.01'), Synset('art.n.01'), Synset('art.n.02'), Synset('art.n.03'), Synset('artwork.n.01')])\n",
      "('hardman', [])\n",
      "('schist', [Synset('schist.n.01')])\n",
      "('collaborate', [Synset('collaborate.v.01'), Synset('collaborate.v.02')])\n",
      "('verite', [])\n",
      "('kozmo', [])\n",
      "('stonecrop', [Synset('stonecrop.n.01')])\n",
      "('cyclist', [Synset('cyclist.n.01')])\n",
      "('attendance', [Synset('attendance.n.01'), Synset('attendance.n.02'), Synset('attendance.n.03')])\n",
      "('cogitate', [Synset('cogitate.v.01'), Synset('think.v.03')])\n",
      "('pastry', [Synset('pastry.n.01'), Synset('pastry.n.02')])\n",
      "('briar', [Synset('sweetbrier.n.01'), Synset('bullbrier.n.01'), Synset('tree_heath.n.02'), Synset('briar.n.04')])\n",
      "('transnational', [Synset('multinational.s.01')])\n",
      "('cosmopolitan', [Synset('cosmopolitan.n.01'), Synset('cosmopolitan.a.01'), Synset('cosmopolitan.a.02'), Synset('cosmopolitan.s.03')])\n",
      "('foreshadowing', [Synset('prefiguration.n.02'), Synset('bode.v.01'), Synset('adumbrative.s.01')])\n",
      "('executed', [Synset('execute.v.01'), Synset('execute.v.02'), Synset('carry_through.v.01'), Synset('execute.v.04'), Synset('run.v.19'), Synset('perform.v.01'), Synset('execute.v.07'), Synset('executed.s.01')])\n",
      "('variegation', [Synset('variegation.n.01'), Synset('diversification.n.01')])\n",
      "('hectoring', [Synset('strong-arm.v.02')])\n",
      "('replacement', [Synset('replacement.n.01'), Synset('surrogate.n.01'), Synset('substitution.n.01'), Synset('substitute.n.01'), Synset('refilling.n.01'), Synset('successor.n.01')])\n",
      "('corking', [Synset('cork.v.01'), Synset('cork.v.02'), Synset('bang-up.s.01')])\n",
      "('articular', [Synset('articular.a.01')])\n",
      "('reestablish', [Synset('restore.v.05')])\n",
      "('initiated', [Synset('originate.v.02'), Synset('initiate.v.02'), Synset('initiate.v.03'), Synset('broach.v.01'), Synset('lead_up.v.01')])\n",
      "('well-meaning', [Synset('well-meaning.s.01'), Synset('well-intentioned.s.01')])\n",
      "('happenings', [Synset('happening.n.01'), Synset('happen.v.01'), Synset('happen.v.02'), Synset('happen.v.03'), Synset('happen.v.04'), Synset('find.v.01')])\n",
      "('libertarians', [Synset('libertarian.n.01'), Synset('libertarian.n.02')])\n",
      "('fairs', [Synset('carnival.n.03'), Synset('fair.n.02'), Synset('fair.n.03'), Synset('bazaar.n.03'), Synset('fair.v.01')])\n",
      "('addressees', [Synset('addressee.n.01')])\n",
      "('lotions', [Synset('lotion.n.01'), Synset('lotion.n.02')])\n",
      "('disgorging', [Synset('spill.v.03'), Synset('vomit.v.01')])\n",
      "('vacuum', [Synset('vacuum.n.01'), Synset('void.n.02'), Synset('vacuum.n.03'), Synset('vacuum.n.04'), Synset('vacuum.v.01')])\n",
      "('impalas', [Synset('impala.n.01')])\n",
      "('perceptiveness', [Synset('insight.n.02'), Synset('taste.n.03'), Synset('discernment.n.03'), Synset('perceptiveness.n.04')])\n",
      "('hellfire', [Synset('hellfire.n.01')])\n",
      "('spoon', [Synset('spoon.n.01'), Synset('spoon.n.02'), Synset('spoon.n.03'), Synset('spoon.v.01'), Synset('smooch.v.01')])\n"
     ]
    }
   ],
   "source": [
    "for word in list(df.index):\n",
    "    print((word, wordnet.synsets(word)))"
   ]
  },
  {
   "cell_type": "code",
   "execution_count": null,
   "metadata": {
    "collapsed": true
   },
   "outputs": [],
   "source": []
  }
 ],
 "metadata": {
  "kernelspec": {
   "display_name": "Python 3",
   "language": "python",
   "name": "python3"
  },
  "language_info": {
   "codemirror_mode": {
    "name": "ipython",
    "version": 3
   },
   "file_extension": ".py",
   "mimetype": "text/x-python",
   "name": "python",
   "nbconvert_exporter": "python",
   "pygments_lexer": "ipython3",
   "version": "3.4.0"
  }
 },
 "nbformat": 4,
 "nbformat_minor": 2
}
