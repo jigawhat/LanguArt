{
 "cells": [
  {
   "cell_type": "code",
   "execution_count": 1,
   "metadata": {
    "collapsed": false
   },
   "outputs": [
    {
     "name": "stdout",
     "output_type": "stream",
     "text": [
      "[nltk_data] Downloading package wordnet to /Users/fonz/nltk_data...\n",
      "[nltk_data]   Unzipping corpora/wordnet.zip.\n"
     ]
    },
    {
     "data": {
      "text/plain": [
       "True"
      ]
     },
     "execution_count": 1,
     "metadata": {},
     "output_type": "execute_result"
    }
   ],
   "source": [
    "import pandas as pd\n",
    "from Constants import *\n",
    "import nltk\n",
    "from nltk.corpus import wordnet\n",
    "nltk.download('wordnet')"
   ]
  },
  {
   "cell_type": "code",
   "execution_count": 2,
   "metadata": {
    "collapsed": true
   },
   "outputs": [],
   "source": [
    "df = pd.read_csv(data_csv, index_col=0)"
   ]
  },
  {
   "cell_type": "code",
   "execution_count": 3,
   "metadata": {
    "collapsed": false
   },
   "outputs": [
    {
     "name": "stdout",
     "output_type": "stream",
     "text": [
      "('hype', [Synset('ballyhoo.n.01'), Synset('hype.v.01')])\n",
      "('preliterate', [Synset('preliterate.s.01'), Synset('preliterate.s.02')])\n",
      "('lucre', [Synset('boodle.n.01'), Synset('net_income.n.01')])\n",
      "('lorry', [Synset('lorry.n.01'), Synset('lorry.n.02')])\n",
      "('averted', [Synset('debar.v.02'), Synset('avert.v.02')])\n",
      "('flyout', [])\n",
      "('wolffish', [Synset('wolffish.n.01'), Synset('lancetfish.n.01')])\n",
      "('bangladeshi', [Synset('bangladeshi.n.01'), Synset('bangladeshi.a.01')])\n",
      "('paves', [Synset('pave.n.01'), Synset('pave.v.01')])\n",
      "('hydrotherapy', [Synset('hydropathy.n.01')])\n",
      "('freesia', [Synset('freesia.n.01')])\n",
      "('bounces', [Synset('bounce.n.01'), Synset('leap.n.01'), Synset('bounce.n.03'), Synset('bounce.v.01'), Synset('bounce.v.02'), Synset('bounce.v.03'), Synset('bounce.v.04'), Synset('bounce.v.05'), Synset('bounce.v.06'), Synset('bounce.v.07')])\n",
      "('nutritionally', [Synset('nutritionally.r.01')])\n",
      "('untransmittable', [])\n",
      "('codling', [Synset('codling.n.01')])\n",
      "('irresolution', [Synset('indecision.n.01'), Synset('irresoluteness.n.01')])\n",
      "('qataris', [Synset('qatari.n.01')])\n",
      "('quintessential', [Synset('quintessential.a.01')])\n",
      "('accreditation', [Synset('accreditation.n.01')])\n",
      "('arts', [Synset('humanistic_discipline.n.01'), Synset('art.n.01'), Synset('art.n.02'), Synset('art.n.03'), Synset('artwork.n.01')])\n",
      "('hardman', [])\n",
      "('schist', [Synset('schist.n.01')])\n",
      "('collaborate', [Synset('collaborate.v.01'), Synset('collaborate.v.02')])\n",
      "('verite', [])\n",
      "('kozmo', [])\n",
      "('stonecrop', [Synset('stonecrop.n.01')])\n",
      "('cyclist', [Synset('cyclist.n.01')])\n",
      "('attendance', [Synset('attendance.n.01'), Synset('attendance.n.02'), Synset('attendance.n.03')])\n",
      "('cogitate', [Synset('cogitate.v.01'), Synset('think.v.03')])\n",
      "('pastry', [Synset('pastry.n.01'), Synset('pastry.n.02')])\n",
      "('briar', [Synset('sweetbrier.n.01'), Synset('bullbrier.n.01'), Synset('tree_heath.n.02'), Synset('briar.n.04')])\n",
      "('transnational', [Synset('multinational.s.01')])\n"
     ]
    }
   ],
   "source": [
    "for word in list(df.index):\n",
    "    print((word, wordnet.synsets(word)))"
   ]
  },
  {
   "cell_type": "code",
   "execution_count": 5,
   "metadata": {
    "collapsed": false
   },
   "outputs": [
    {
     "name": "stdout",
     "output_type": "stream",
     "text": [
      "('hype', True, True)\n",
      "('preliterate', True, True)\n",
      "('lucre', True, True)\n",
      "('lorry', True, True)\n",
      "('averted', True, True)\n",
      "('flyout', False, False)\n",
      "('wolffish', False, False)\n",
      "('bangladeshi', False, False)\n",
      "('paves', True, True)\n",
      "('hydrotherapy', True, True)\n",
      "('freesia', False, False)\n",
      "('bounces', True, True)\n",
      "('nutritionally', True, True)\n",
      "('untransmittable', False, False)\n",
      "('codling', True, True)\n",
      "('irresolution', True, True)\n",
      "('qataris', False, False)\n",
      "('quintessential', True, True)\n",
      "('accreditation', True, True)\n",
      "('arts', True, True)\n",
      "('hardman', False, False)\n",
      "('schist', True, True)\n",
      "('collaborate', True, True)\n",
      "('verite', False, False)\n",
      "('kozmo', False, False)\n",
      "('stonecrop', False, False)\n",
      "('cyclist', True, True)\n",
      "('attendance', True, True)\n",
      "('cogitate', True, True)\n",
      "('pastry', True, True)\n",
      "('briar', False, True)\n",
      "('transnational', True, False)\n"
     ]
    }
   ],
   "source": [
    "import enchant\n",
    "d_US = enchant.Dict(\"en_US\")\n",
    "d_UK = enchant.Dict(\"en_UK\")\n",
    "for word in list(df.index):\n",
    "    print((word, d_US.check(word), d_UK.check(word)))"
   ]
  },
  {
   "cell_type": "code",
   "execution_count": null,
   "metadata": {
    "collapsed": true
   },
   "outputs": [],
   "source": []
  }
 ],
 "metadata": {
  "kernelspec": {
   "display_name": "Python 3",
   "language": "python",
   "name": "python3"
  },
  "language_info": {
   "codemirror_mode": {
    "name": "ipython",
    "version": 3
   },
   "file_extension": ".py",
   "mimetype": "text/x-python",
   "name": "python",
   "nbconvert_exporter": "python",
   "pygments_lexer": "ipython3",
   "version": "3.4.0"
  }
 },
 "nbformat": 4,
 "nbformat_minor": 2
}
